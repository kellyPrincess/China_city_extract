{
 "cells": [
  {
   "cell_type": "code",
   "execution_count": null,
   "metadata": {
    "collapsed": true
   },
   "outputs": [],
   "source": [
    "import pandas as pd\n",
    "import requests\n",
    "import json\n",
    "import copy"
   ]
  },
  {
   "cell_type": "code",
   "execution_count": 2,
   "metadata": {
    "collapsed": true
   },
   "outputs": [],
   "source": [
    "# 34个省级行政区域\n",
    "\n",
    "province = [\"北京市\",\n",
    "            \"天津市\",\n",
    "            \"上海市\",\n",
    "            \"重庆市\",\n",
    "            \"河北省\",\n",
    "            \"山西省\",\n",
    "            \"辽宁省\",\n",
    "            \"吉林省\",\n",
    "            \"黑龙江省\",\n",
    "            \"江苏省\",\n",
    "            \"浙江省\",\n",
    "            \"安徽省\",\n",
    "            \"福建省\",\n",
    "            \"江西省\",\n",
    "            \"山东省\",\n",
    "            \"河南省\",\n",
    "            \"湖北省\",\n",
    "            \"湖南省\",\n",
    "            \"广东省\",\n",
    "            \"海南省\",\n",
    "            \"四川省\",\n",
    "            \"贵州省\",\n",
    "            \"云南省\",\n",
    "            \"陕西省\",\n",
    "            \"甘肃省\",\n",
    "            \"青海省\",\n",
    "            \"台湾省\",\n",
    "            \"内蒙古自治区\",\n",
    "            \"广西壮族自治区\",\n",
    "            \"西藏自治区\",\n",
    "            \"宁夏回族自治区\",\n",
    "            \"新疆维吾尔自治区\",\n",
    "            \"香港特别行政区\",\n",
    "            \"澳门特别行政区\"]\n",
    "\n",
    "prov = [str(i).replace(\"市\",\"\").replace(\"省\",\"\").replace(\"自治区\",\"\").replace(\"特别行政区\",\"\") for i in province]\n",
    "prov = prov + province"
   ]
  },
  {
   "cell_type": "markdown",
   "metadata": {},
   "source": [
    "###### 一级行政区"
   ]
  },
  {
   "cell_type": "code",
   "execution_count": null,
   "metadata": {
    "collapsed": true
   },
   "outputs": [],
   "source": [
    "filepath = r'http://restapi.amap.com/v3/config/district?parameters'\n",
    "\n",
    "two_districts = [] # 395\n",
    "\n",
    "for prov in province:\n",
    "    r = requests.get(filepath, params={\"key\": \"737269e88323592ea805bb6f6f4176db\"\n",
    "                                        , \"keywords\": prov\n",
    "                                        , \"subdistrict\": 1\n",
    "                                        , \"output\": \"JSON\"\n",
    "                                        , \"ie\": \"utf-8\"})\n",
    "    \n",
    "    districts = r.json()[\"districts\"][0][\"districts\"]\n",
    "    for i in districts:\n",
    "        two_district_name = i[\"name\"]  # 二级行政的名称\n",
    "        two_districts.append(two_district_name)\n",
    "\n",
    "# len(two_districts)\n",
    "# two_districts"
   ]
  },
  {
   "cell_type": "code",
   "execution_count": null,
   "metadata": {
    "collapsed": true
   },
   "outputs": [],
   "source": []
  },
  {
   "cell_type": "markdown",
   "metadata": {},
   "source": [
    "##### 二三级行政区"
   ]
  },
  {
   "cell_type": "code",
   "execution_count": null,
   "metadata": {
    "collapsed": true
   },
   "outputs": [],
   "source": []
  },
  {
   "cell_type": "code",
   "execution_count": 4,
   "metadata": {
    "collapsed": true
   },
   "outputs": [],
   "source": [
    "\n",
    "def get_districts(province):\n",
    "    filepath = r'http://restapi.amap.com/v3/config/district?parameters'\n",
    "    \n",
    "    two_districts = []\n",
    "    three_districts = {}\n",
    "    \n",
    "    for prov in province:\n",
    "\n",
    "        r = requests.get(filepath, params={\"key\": \"737269e88323592ea805bb6f6f4176db\"\n",
    "            , \"keywords\": prov\n",
    "            , \"subdistrict\": 2\n",
    "            , \"output\": \"JSON\"\n",
    "            , \"ie\": \"utf-8\"})\n",
    "\n",
    "        districts = r.json()[\"districts\"][0][\"districts\"]\n",
    "\n",
    "        for i in districts:\n",
    "            two_district_name = i[\"name\"]  # 二级行政的名称\n",
    "            two_districts.append(two_district_name)\n",
    "            \n",
    "            three_districts[two_district_name] = []\n",
    "            for j in i[\"districts\"]:\n",
    "                three_districts[two_district_name].append(j[\"name\"])\n",
    "    \n",
    "    two_district = [i.replace(\"市\",\"\") for i in two_districts if i.find(\"市\")!= -1]\n",
    "    two_districts = two_districts + two_district\n",
    "    \n",
    "\n",
    "    three_district = [] # 省下三级行政区\n",
    "    for v in three_districts.values():\n",
    "        for c in v:\n",
    "            three_district.append(c)\n",
    "            s = str(c).replace(\"市\",\"\").replace(\"县\",\"\").replace(\"镇\",\"\").replace(\"区\",\"\")\n",
    "            three_district.append(s)\n",
    "                \n",
    "    return(two_districts, three_district)\n",
    "\n",
    "level2,level3 = get_districts(province)\n",
    "\n",
    "cn_districts = prov + level2 \n",
    "cn_districts = cn_districts + level3\n",
    "\n",
    "lst = [i for i in list(set(cn_districts)) if len(i)>1 ]  # 去重和删除一个字符的字符串\n",
    "\n",
    "zone = pd.DataFrame({\"zone\":lst}).sort_values(by=\"zone\")\n",
    "zone.to_csv(\"中国一二三级行政区1.txt\",index=False)\n"
   ]
  },
  {
   "cell_type": "code",
   "execution_count": null,
   "metadata": {
    "collapsed": true
   },
   "outputs": [],
   "source": []
  },
  {
   "cell_type": "markdown",
   "metadata": {},
   "source": [
    "##### 备用脚本"
   ]
  },
  {
   "cell_type": "code",
   "execution_count": 44,
   "metadata": {
    "collapsed": true,
    "scrolled": true
   },
   "outputs": [],
   "source": [
    "filepath = r'http://restapi.amap.com/v3/config/district?parameters'\n",
    "r = requests.get(filepath, params={\"key\": \"737269e88323592ea805bb6f6f4176db\"\n",
    "    , \"keywords\": \"广东省\"\n",
    "    , \"subdistrict\": 2\n",
    "    , \"output\": \"JSON\"\n",
    "    , \"ie\": \"utf-8\"})\n",
    "\n",
    "two_districts = [] # 省下二级行政区\n",
    "three_districts = {} # 二级行政区的3级行政区\n",
    "\n",
    "districts = r.json()[\"districts\"][0][\"districts\"]\n",
    "\n",
    "for i in districts:\n",
    "    two_district_name = i[\"name\"]  # 二级行政的名称\n",
    "    two_districts.append(two_district_name)\n",
    "    three_districts[two_district_name] = []\n",
    "    for j in i[\"districts\"]:\n",
    "        three_districts[two_district_name].append(j[\"name\"])\n",
    "\n",
    "\n",
    "three_district = [] # 省下三级行政区\n",
    "for j in three_districts.values():\n",
    "    for i in j:\n",
    "        three_district.append(i)\n",
    "        s = str(i).replace(\"市\",\"\").replace(\"县\",\"\").replace(\"镇\",\"\").replace(\"区\",\"\")\n",
    "        three_district.append(s)\n",
    "# print(three_district)\n",
    "\n",
    "\n",
    "\n",
    "# area_dict_1 = []\n",
    "# for k in three_districts:\n",
    "#     area_dict_1.append({k: three_districts[k]})\n",
    "# print(area_dict_1)\n",
    "\n",
    "# zhen = []\n",
    "# none_zhen = []\n",
    "# for key in area_dict_1:\n",
    "#     val = list(key.values())[0]\n",
    "#     for i in range(len(val)):\n",
    "#         zhen.append(val[i])\n",
    "#         none_zhen.append(val[i].replace('镇', ''))\n",
    "# print(two_districts)\n",
    "# print(zhen)"
   ]
  }
 ],
 "metadata": {
  "kernelspec": {
   "display_name": "Python 3",
   "language": "python",
   "name": "python3"
  },
  "language_info": {
   "codemirror_mode": {
    "name": "ipython",
    "version": 3
   },
   "file_extension": ".py",
   "mimetype": "text/x-python",
   "name": "python",
   "nbconvert_exporter": "python",
   "pygments_lexer": "ipython3",
   "version": "3.6.5"
  },
  "toc": {
   "base_numbering": 1,
   "nav_menu": {},
   "number_sections": true,
   "sideBar": true,
   "skip_h1_title": false,
   "title_cell": "Table of Contents",
   "title_sidebar": "Contents",
   "toc_cell": false,
   "toc_position": {},
   "toc_section_display": true,
   "toc_window_display": false
  }
 },
 "nbformat": 4,
 "nbformat_minor": 2
}
